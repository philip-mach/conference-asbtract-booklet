{
 "cells": [
  {
   "cell_type": "code",
   "execution_count": null,
   "metadata": {},
   "outputs": [],
   "source": []
  },
  {
   "cell_type": "markdown",
   "metadata": {},
   "source": [
    "#  Conversion of spreadsheet of abstracts to abstracts booklet\n",
    "\n",
    "## Philip Machanick\n",
    "### 18 June 2020\n",
    "\n",
    "Free to use under terms of the MIT license: https://opensource.org/licenses/MIT – copyright &copy; Philip Machanick 2020\n",
    "\n",
    "## Input\n",
    "\n",
    "Assume data to create an abstract booklet is in a spreadsheet structured as follows (“|” separates fields):\n",
    "\n",
    "`\\# | track # | track name | title | authors | submitted | last updated | form fields | keywords | decision | notified |\treviews sent | abstract | day | time`\n",
    "\n",
    "as created by EasyChair but with the addition of fields for conference `day` and `time`. You also need to sort in order of presentation.\n",
    "\n",
    "Only those with exact text “`accept`” in the decision field are included.\n",
    "\n",
    "## Output\n",
    "Output is a LaTeX file; to access it, use the **File** menu and select *Open* – the file name is as set in the initialization code in the cell that starts with the comment\n",
    "`# setup for this conference`\n",
    "(variable `texfile`).\n",
    "\n",
    "You can also send the output to the screen by making the file name the empty string. See the comment line starting with\n",
    "`# if you want the final LaTeX to go to a file`\n",
    "\n",
    "Save the file locally if running off the repository: binders time out relatively quickly.\n",
    "\n",
    "## Usage hints\n",
    "The time field is in text mode to avoid having to do conversion to Numpy time format. You should sort the spreadsheet in order of the date and time to get the abstracts in the correct order; this code does not do so.\n",
    "\n",
    "It is worth checking for stray hyphens as some authors copy and paste from the PDF of their paper’s abstract and don’t notice that they have left in hyphens that should only be there for a line break.\n",
    "\n",
    "Note also that LaTeX in Unicode (UTF-8) mode should be able handle extended character sets but something can be lost in translation – e.g., saving a text file may not reliably record the character set mode. To be safe, in the Excel file systematically change all:\n",
    "\n",
    "* “ –> `` (open single quote)\n",
    "* ” –> '' (close double quote)\n",
    "* ‘ –> ` (open single quote)\n",
    "* ’ –> ' (close single quote)\n",
    "* – –> -- (end dash)\n",
    "* — –> --- (em dash)\n",
    "* ﬁ –> fi (fi ligature)\n",
    "* ﬂ –> fl (fl ligature)\n",
    "* ﬀ –> ff (fl ligature) … and others like that\n",
    "\n",
    "Accented characters should also be searched for and replaced: a table of them can be found here: https://en.wikibooks.org/wiki/LaTeX/Special_Characters (the enclosing { } is not stricrly necessary in the main body of the document but is in BibTeX – for example, you can write \\'e to get é and \\'{e} should get the same result). You may also need to search for special symbols (degrees, Greek letters, mathematical notation, etc.).\n",
    "\n",
    "This could be coded easily in Python (see use of replace in the code below) but the benefit of doing it in the spreadsheet is you would be more inclined to check. To be sure you do this right, copy and past the before and after characters into the Excel search and replace box.\n",
    "\n",
    "Note: if position of the times on the abstracts are garbled, run LaTeX again (up to three runs may be required).\n",
    "\n",
    "### Source\n",
    "LaTeX template based on https://www.overleaf.com/latex/examples/a-basic-conference-abstract-booklet/tkjfcvzgjrnd"
   ]
  },
  {
   "cell_type": "code",
   "execution_count": 7,
   "metadata": {},
   "outputs": [],
   "source": [
    "%%capture\n",
    "## initialize state for this notebook\n",
    "import os\n",
    "owd = os.getcwd()\n",
    "os.chdir('../')\n",
    "%run setup.py install\n",
    "os.chdir(owd)"
   ]
  },
  {
   "cell_type": "code",
   "execution_count": 8,
   "metadata": {},
   "outputs": [],
   "source": [
    "import xlrd\n",
    "import numpy as np\n",
    "from datetime import time"
   ]
  },
  {
   "cell_type": "code",
   "execution_count": 9,
   "metadata": {},
   "outputs": [],
   "source": [
    "# setup for this conference -- all changes for a new event go here\n",
    "filename     = 'EasyChairDownload_columns_added_sort.xlsx' # EDIT TO NAME OF YOUR ABSTRACT SPREADSHEET\n",
    "\n",
    "# if you want the final LaTeX to go to a file, you can access it via Open in the File menu once done\n",
    "# comment out one of the next 2 lines depending whether you want to save the LaTeX file or send output to the notebook\n",
    "texfile      = 'conf2020Abstracts.tex'  # change this to the correct conference file name\n",
    "#texfile      = '' # name this to save, otherwise the output appears at the end of the page\n",
    "\n",
    "conferencename = \"49th Annual Conference of the Latin Nostalgics Association\"\n",
    "conferenceauthor = 'LNA 2020' # needed for LaTeX\n",
    "conferencedate = '6--9 July 2020'\n",
    "conferencemonth = 'July'        # empty string if month included in spreadsheet entries\n",
    "\n",
    "#################### generic setup – things to change end here ####################\n",
    "\n",
    "pathseparator = '/'             # change if not a Unix-style path\n",
    "filepath     = 'data'  # path to spreadsheet relative to root directory of notebook\n",
    "preamblefile = 'AbstractsOpening.tex'"
   ]
  },
  {
   "cell_type": "code",
   "execution_count": 10,
   "metadata": {},
   "outputs": [
    {
     "name": "stdout",
     "output_type": "stream",
     "text": [
      "['#', 'track #', 'track name', 'title', 'authors', 'submitted', 'last updated', 'form fields', 'keywords', 'decision', 'notified', 'reviews sent', 'abstract', 'day', 'time', 'timesort']\n"
     ]
    }
   ],
   "source": [
    "# Extract each abstract and build LaTeX\n",
    "# Check here what the field names are and that they match code later\n",
    "\n",
    "# ideas from https://www.geeksforgeeks.org/reading-excel-file-using-python/\n",
    "# load abstract data\n",
    "\n",
    "my_abstracts = xlrd.open_workbook(filepath + pathseparator + filename)\n",
    "sheet = my_abstracts.sheet_by_index(0)\n",
    "\n",
    "f = open(filepath + pathseparator + preamblefile, 'r')\n",
    "preamble = f.read()\n",
    "preamble = preamble.replace('##CONFERENCENAME##', conferencename)\n",
    "preamble = preamble.replace('##AUTHORNAME##', '')\n",
    "preamble = preamble.replace('##DATE##', conferencedate)\n",
    "\n",
    "# commented out for printing one-sided: works best for computer display\n",
    "# if you want to print the booklet, uncomment the following line\n",
    "\n",
    "# preamble = preamble.replace(',oneside', '')\n",
    "\n",
    "\n",
    "# https://stackoverflow.com/questions/26951538/python-using-xlrd-to-obtain-column-heading-and-using-a-loop-to-create-variables\n",
    "headers = [str(cell.value) for cell in sheet.row(0)]\n",
    "\n",
    "# check the Excel column header names as they must match field names below\n",
    "print (headers)\n",
    "\n",
    "arr = []\n",
    "for rowind in range(sheet.nrows)[1:]:\n",
    "    arr.append([ cell.value for cell in sheet.row(rowind)])\n",
    "\n",
    "# https://machinelearningmastery.com/index-slice-reshape-numpy-arrays-machine-learning-python/\n",
    "data = np.rec.fromrecords(arr, names=headers)\n"
   ]
  },
  {
   "cell_type": "code",
   "execution_count": 11,
   "metadata": {},
   "outputs": [],
   "source": [
    "openabstract  = '\\\\begin{conf-abstract}['\n",
    "closeabstract = '\\\\end{conf-abstract}'\n",
    "\n",
    "endabstracts = '\\\\end{document}'"
   ]
  },
  {
   "cell_type": "code",
   "execution_count": 12,
   "metadata": {},
   "outputs": [],
   "source": [
    "# print preamble\n",
    "# note field names used here as indexes -- must match Excel column headings\n",
    "# field names used: decision day title authors abstract\n",
    "\n",
    "# if you have affiliation as well in the spreadsheet add that to the placeholder\n",
    "# otherwise it must be output as empty in { }\n",
    "\n",
    "outputstring = preamble\n",
    "\n",
    "# extract each abstract\n",
    "\n",
    "for a in range (data.shape[0]):\n",
    "    if (data[a]['decision'] == 'accept'):  # the value accept is assumed to flag abstracts to be used\n",
    "        outputstring = outputstring + openabstract\n",
    "        dayval = data[a]['day'].replace('.0', '')\n",
    "        outputstring = outputstring + dayval + ' ' + conferencemonth + '\\\\\\\\' + data[a]['time'] + ']' + '\\n'\n",
    "        outputstring = outputstring + '{' + data[a]['title'] + '}' + '\\n'\n",
    "        outputstring = outputstring + '{' + data[a]['authors'] + '}' + '\\n'\n",
    "        outputstring = outputstring + '{' +  '}' + '\\n' # placeholder for affiliation data[a]['affiliation'] +\n",
    "        outputstring = outputstring + '{' + data[a]['abstract'] + '}' + '\\n'\n",
    "        outputstring = outputstring + closeabstract + '\\n'\n",
    "\n",
    "# complete the LaTeX file\n",
    "outputstring = outputstring + endabstracts + '\\n'\n",
    "\n",
    "# if you don’t want an output file, the output will appear next\n",
    "if texfile == '':\n",
    "    print(outputstring)\n",
    "else: # if you produce an output file, choose Open from the File menu to find it\n",
    "    tex_file = open(texfile, 'w')\n",
    "    n = tex_file.write(outputstring)\n",
    "    tex_file.close()"
   ]
  },
  {
   "cell_type": "code",
   "execution_count": null,
   "metadata": {},
   "outputs": [],
   "source": []
  }
 ],
 "metadata": {
  "kernelspec": {
   "display_name": "Python 3",
   "language": "python",
   "name": "python3"
  },
  "language_info": {
   "codemirror_mode": {
    "name": "ipython",
    "version": 3
   },
   "file_extension": ".py",
   "mimetype": "text/x-python",
   "name": "python",
   "nbconvert_exporter": "python",
   "pygments_lexer": "ipython3",
   "version": "3.7.4"
  }
 },
 "nbformat": 4,
 "nbformat_minor": 2
}
